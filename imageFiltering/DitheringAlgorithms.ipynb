{
 "cells": [
  {
   "cell_type": "markdown",
   "metadata": {},
   "source": [
    "# Dithering Algorithms\n",
    "Dithering is used in computer graphics to create the illusion of \"color depth\" in images with a limited color palette - a technique also known as color quantization. In a dithered image, colors that are not available in the palette are approximated by a diffusion of colored pixels from within the available palette."
   ]
  },
  {
   "cell_type": "code",
   "execution_count": null,
   "metadata": {},
   "outputs": [],
   "source": [
    "### import libs ###\n",
    "import numpy as np\n",
    "import matplotlib as mpl\n",
    "import matplotlib.pyplot as plt\n",
    "\n",
    "import matplotlib.animation as animation # for animated display with matplotlib\n",
    "from IPython.display import HTML\n",
    "\n",
    "from IPython.display import display # to display images\n",
    "\n",
    "from PIL import Image # load images\n",
    "from scipy.signal import convolve2d # for 2d image convolution\n",
    "\n",
    "plt.rcParams['figure.figsize'] = [18,12] # resize default image display\n",
    "plt.rcParams['figure.dpi'] = 80\n",
    "plt.rcParams['animation.html'] = 'jshtml'# default setting for rendering animation as js htlm"
   ]
  },
  {
   "cell_type": "code",
   "execution_count": null,
   "metadata": {},
   "outputs": [],
   "source": [
    "# Minimal code for rendering a numpy array as an image with subplotting\n",
    "def displayImg(array, subplot, cmap = None, title = None):\n",
    "    axes = plt.subplot(subplot)\n",
    "    # matplotlib adjust pixel scale intensity so use fixed vmin & vmax\n",
    "    axes.imshow(array, cmap = cmap, vmin = 0, vmax = 255)\n",
    "    axes.get_xaxis().set_visible(False)\n",
    "    axes.get_yaxis().set_visible(False)\n",
    "    if title != None:\n",
    "        axes.set_title(title)\n",
    "\n",
    "# usefull function to display animated img\n",
    "def animateImages(imgList, titleList  = [], cmap = None, interval = 20):\n",
    "  def init():\n",
    "    img.set_data(imgList[0])\n",
    "    return (img,)\n",
    "\n",
    "  def animate(i):\n",
    "    img.set_data(imgList[i])\n",
    "    if len(titleList) >= i + 1 :\n",
    "        ax.set_title(titleList[i])\n",
    "    return (img,)\n",
    "\n",
    "  fig = plt.figure()\n",
    "  ax = fig.gca() # get axes\n",
    "  img = ax.imshow(imgList[0], cmap = cmap, vmin = 0, vmax = 255)\n",
    "  return animation.FuncAnimation(fig, animate, init_func=init, frames=len(imgList), interval = interval, blit=True)\n"
   ]
  },
  {
   "cell_type": "code",
   "execution_count": null,
   "metadata": {},
   "outputs": [],
   "source": [
    "# greyscale conversion function with numpy\n",
    "def meanGrayscaleConversion(img):\n",
    "    # taking the average of three R, G & B components\n",
    "    return np.mean(img, axis=2)\n",
    "\n",
    "def weightedGrayscaleConversion(img, weights = [0.2989, 0.5870, 0.1140]):\n",
    "    # taking the sum of weighted R, G & B components\n",
    "    # using by default the standard ITU-R BT.601 Studio encoding parameters reconstructs the luminance\n",
    "    # we can alos choose the  Rec. 709 coefficients [0.2126, 0.7152, 0.0722]\n",
    "    weightsTiles = np.tile(weights, reps=(img.shape[0], img.shape[1], 1))\n",
    "    return np.sum(weightsTiles * img, axis=2)\n",
    "    # or return np.array([[ np.sum(weights * pixel) for pixel in line] for line in img])"
   ]
  },
  {
   "cell_type": "code",
   "execution_count": null,
   "metadata": {},
   "outputs": [],
   "source": [
    "img = Image.open('exemple01.jpg') #  load exemple image\n",
    "imgArray = np.array(img, dtype = np.integer) # convert to numpy array"
   ]
  },
  {
   "cell_type": "code",
   "execution_count": null,
   "metadata": {},
   "outputs": [],
   "source": [
    "# grayScale conversion\n",
    "grayscaleMeanImg = meanGrayscaleConversion(imgArray)\n",
    "grayscaleRec709Img = weightedGrayscaleConversion(imgArray, [0.2126, 0.7152, 0.0722]) \n",
    "grayscaleImg = weightedGrayscaleConversion(imgArray)\n",
    "\n",
    "displayImg(grayscaleMeanImg, subplot=131, cmap='gray', title= 'mean')\n",
    "displayImg(grayscaleImg, subplot=132, cmap='gray', title= 'standard ITU-R BT.601')\n",
    "displayImg(grayscaleRec709Img, subplot=133, cmap='gray', title= 'Rec. 709')"
   ]
  },
  {
   "cell_type": "code",
   "execution_count": null,
   "metadata": {},
   "outputs": [],
   "source": [
    "%%capture \n",
    "# adding capture here to prevent the returned output from being evaluated by Jupyter (only the animation displayed in the next cell)\n",
    "#test animated display\n",
    "anim = animateImages([grayscaleMeanImg, grayscaleImg, grayscaleRec709Img], ['mean', 'standard ITU-R BT.601', 'Rec. 709'], cmap='gray', interval = 1000)"
   ]
  },
  {
   "cell_type": "code",
   "execution_count": null,
   "metadata": {},
   "outputs": [],
   "source": [
    "HTML(anim.to_jshtml())"
   ]
  },
  {
   "cell_type": "code",
   "execution_count": null,
   "metadata": {},
   "outputs": [],
   "source": [
    "def threshold(img, rate = 0.5):\n",
    "    ditheredImg = np.copy(img)\n",
    "    # for ix, iy in np.ndindex(ditheredImg.shape):\n",
    "    #     print(ditheredImg[ix,iy])\n",
    "    ditheredImg = np.array([[255 if val > 255 * rate else 0 for val in line] for line in ditheredImg])\n",
    "    return ditheredImg"
   ]
  },
  {
   "cell_type": "code",
   "execution_count": null,
   "metadata": {},
   "outputs": [],
   "source": [
    "thresholdImg = threshold(grayscaleImg, 0.5)\n",
    "\n",
    "displayImg(grayscaleImg, subplot=121, cmap='gray', title= 'grayscale original image')\n",
    "displayImg(thresholdImg, subplot=122, cmap='gray', title= 'threshold image')"
   ]
  },
  {
   "cell_type": "code",
   "execution_count": null,
   "metadata": {},
   "outputs": [],
   "source": [
    "%%capture\n",
    "# adding capture here to prevent the returned output from being evaluated by Jupyter (only the animation displayed in the next cell)\n",
    "thresholdEvolutionRate = []\n",
    "titles = []\n",
    "for rate in np.arange(0.05, 1, 0.05):\n",
    "    thresholdEvolutionRate.append( threshold(grayscaleImg, rate) )\n",
    "    titles.append('rate : ' + str(round(rate,2)))\n",
    "anim = animateImages(thresholdEvolutionRate, titles, cmap='gray', interval = 500)"
   ]
  },
  {
   "cell_type": "code",
   "execution_count": null,
   "metadata": {},
   "outputs": [],
   "source": [
    "HTML(anim.to_jshtml())"
   ]
  },
  {
   "cell_type": "code",
   "execution_count": null,
   "metadata": {},
   "outputs": [],
   "source": [
    "def npConvolve2d(img, convFilter, paddingMode = 'zero', debug = False):\n",
    "    ''' Convolve an image with convFilter using zero-padding mode\n",
    "    '''\n",
    "    paddingSize = tuple(np.array(convFilter.shape)//2)\n",
    "    if paddingMode == 'zero' :\n",
    "        paddedImg = np.pad(img, (paddingSize, paddingSize), 'constant', constant_values= 0)\n",
    "    else :\n",
    "        paddedImg = np.pad(img, (paddingSize, paddingSize), paddingMode)\n",
    "    subShape = convFilter.shape + tuple(np.subtract(paddedImg.shape, convFilter.shape) + 1)\n",
    "    strd = np.lib.stride_tricks.as_strided # alias for the strided function\n",
    "    subMatrices = strd(paddedImg, shape=subShape, strides=paddedImg.strides*2)\n",
    "    convolved = np.einsum('ij,ijkl->kl', convFilter, subMatrices)\n",
    "\n",
    "    if debug:\n",
    "        print('img : '); print(img)\n",
    "        print('convFilter : '); print(convFilter)\n",
    "        print('padded img :'); print(paddedImg)\n",
    "        print('subShape :'); print(subShape)\n",
    "        print('subMatrices :'); print(subMatrices)\n",
    "    return convolved"
   ]
  },
  {
   "cell_type": "code",
   "execution_count": null,
   "metadata": {},
   "outputs": [],
   "source": [
    "# convolution test on simple \n",
    "i = np.array([1,2,2,2,9,9,8,7,1,2,1,6]).reshape(3,4)\n",
    "f = np.array([-3,-2,-1,0,0,0,3,2,1]).reshape(3,3)\n",
    "strider = np.lib.stride_tricks.as_strided\n",
    "convolved = npConvolve2d(i, f, 'zero')\n",
    "print('convolved :')\n",
    "print(convolved)"
   ]
  },
  {
   "cell_type": "code",
   "execution_count": null,
   "metadata": {},
   "outputs": [],
   "source": [
    "def npConvolve3d(img, convFilter):\n",
    "    ''' 3D version of convolution for rgb imgs as numpy array\n",
    "    '''\n",
    "    #Todo adding padding\n",
    "    subShape = convFilter.shape + tuple(np.subtract(img.shape, convFilter.shape) + 1)\n",
    "    strd = np.lib.stride_tricks.as_strided # alias for the strided function\n",
    "    subMatrices = strd(img, shape=subShape, strides=paddedImg.strides*2)\n",
    "    convolved = np.einsum('hij,hijklm->klm', convFilter, submatrices)\n",
    "\n",
    "    return convolved"
   ]
  },
  {
   "cell_type": "markdown",
   "metadata": {},
   "source": [
    "## Ordered dithering"
   ]
  },
  {
   "cell_type": "code",
   "execution_count": null,
   "metadata": {},
   "outputs": [],
   "source": [
    "def BayerMatrix(n):\n",
    "    \"\"\"Get the Bayer matrix with side of length n (n must be a power of 2)\n",
    "    Reference: https://en.wikipedia.org/wiki/Ordered_dithering\n",
    "    \"\"\"\n",
    "    # return 256 * BayerSubThresholdMap(n) / (n * n)\n",
    "    return 255 * (1 + BayerSubMatrix(n)) / (1 + (n * n))\n",
    "\n",
    "def BayerSubMatrix(n):\n",
    "    if n <= 2:\n",
    "        return np.array([[0, 2], [3, 1]])\n",
    "    else:\n",
    "        recurse = BayerSubMatrix(n >> 1)\n",
    "        return np.bmat([[4 * recurse,     4 * recurse + 2],\n",
    "                        [4 * recurse + 3, 4 * recurse + 1]])\n",
    "\n",
    "def bayerDithering(img, n = 8):\n",
    "    bayerM = BayerMatrix(n)\n",
    "    rows, cols = img.shape\n",
    "    result = np.zeros(img.shape)\n",
    "    for i in range(rows):\n",
    "        for j in range(cols):\n",
    "            if img[i, j] >  bayerM[i & (n-1), j & (n-1)] : # a & (n-1) == a % n when n is pow of 2\n",
    "                result[i, j] = 255\n",
    "            else:\n",
    "                result[i, j] = 0\n",
    "    # salut je suis un hackeur un hac<3 un Iac<3 to you\n",
    "    return result\n",
    "\n",
    "# img = np.random.randint(128-60, 128+60, size=(8,8))\n",
    "# displayImg(img, subplot=121, cmap='gray', title= 'randomImg')\n",
    "# displayImg(bayerDithering(img, 2), subplot=122, cmap='gray', title= 'ramdo dithered')"
   ]
  },
  {
   "cell_type": "code",
   "execution_count": null,
   "metadata": {},
   "outputs": [],
   "source": [
    "gradient = np.repeat(np.arange(0, 256).reshape(1, 256), 40, axis=0)\n",
    "displayImg(gradient, subplot=111, cmap='gray', title= 'grayscale gradient')"
   ]
  },
  {
   "cell_type": "code",
   "execution_count": null,
   "metadata": {},
   "outputs": [],
   "source": [
    "%%capture\n",
    "# adding capture here to prevent the returned output from being evaluated by Jupyter (only the animation displayed in the next cell)\n",
    "imgs = []\n",
    "titles = []\n",
    "\n",
    "for order in np.power(2, np.arange(1, 8)):\n",
    "    imgs.append( bayerDithering( gradient, order))\n",
    "    titles.append('Order : ' + str(order))\n",
    "anim = animateImages(imgs, titles, cmap='gray', interval = 300)"
   ]
  },
  {
   "cell_type": "code",
   "execution_count": null,
   "metadata": {},
   "outputs": [],
   "source": [
    "HTML(anim.to_jshtml())"
   ]
  },
  {
   "cell_type": "markdown",
   "metadata": {},
   "source": [
    "# error difusion dithering "
   ]
  },
  {
   "cell_type": "code",
   "execution_count": null,
   "metadata": {},
   "outputs": [],
   "source": [
    "BayerThresholdImg = bayerDithering(grayscaleImg[:300, :300], 8)\n",
    "\n",
    "displayImg(grayscaleImg[:300, :300], subplot=121, cmap='gray', title= 'grayscale')\n",
    "displayImg(BayerThresholdImg, subplot=122, cmap='gray', title= 'Bayer ordered dithering')"
   ]
  },
  {
   "cell_type": "code",
   "execution_count": null,
   "metadata": {},
   "outputs": [],
   "source": [
    "diffusionPatterns = {\n",
    "    'floyd-steinberg': (\n",
    "        (1, 0,  7 / 16), \n",
    "        (-1, 1, 3 / 16), \n",
    "        (0, 1,  5 / 16), \n",
    "        (1, 1,  1 / 16)\n",
    "    ),\n",
    "    'atkinson': (\n",
    "        (1, 0,  1 / 8), (2, 0,  1 / 8), (-1, 1, 1 / 8), (0, 1,  1 / 8), (1, 1,  1 / 8), (0, 2,  1 / 8),\n",
    "    ),\n",
    "    'jarvis-judice-ninke': (\n",
    "        (1, 0,  7 / 48), (2, 0,  5 / 48), (-2, 1, 3 / 48), (-1, 1, 5 / 48), (0, 1,  7 / 48), (1, 1,  5 / 48), (2, 1,  3 / 48), (-2, 2, 1 / 48), (-1, 2, 3 / 48), (0, 2,  5 / 48), (1, 2,  3 / 48),(2, 2,  1 / 48),\n",
    "    ),\n",
    "    'stucki': (\n",
    "        (1, 0,  8 / 42), (2, 0,  4 / 42), (-2, 1, 2 / 42), (-1, 1, 4 / 42), (0, 1,  8 / 42), (1, 1,  4 / 42), (2, 1,  2 / 42), (-2, 2, 1 / 42), (-1, 2, 2 / 42), (0, 2,  4 / 42), (1, 2,  2 / 42), (2, 2,  1 / 42),\n",
    "    ),\n",
    "    'burkes': (\n",
    "        (1, 0,  8 / 32), (2, 0,  4 / 32), (-2, 1, 2 / 32), (-1, 1, 4 / 32), (0, 1,  8 / 32), (1, 1,  4 / 32), (2, 1,  2 / 32),\n",
    "    ),\n",
    "    'sierra3': (\n",
    "        (1, 0,  5 / 32), (2, 0,  3 / 32), (-2, 1, 2 / 32), (-1, 1, 4 / 32), (0, 1,  5 / 32), (1, 1,  4 / 32), (2, 1,  2 / 32), (-1, 2, 2 / 32), (0, 2,  3 / 32), (1, 2,  2 / 32),\n",
    "    ),\n",
    "    'sierra2': (\n",
    "        (1, 0,  4 / 16),(2, 0,  3 / 16),(-2, 1, 1 / 16),(-1, 1, 2 / 16),(0, 1,  3 / 16),(1, 1,  2 / 16),(2, 1,  1 / 16),\n",
    "    ),\n",
    "    'sierra-2-4a': (\n",
    "        (1, 0,  2 / 4), (-1, 1, 1 / 4), (0, 1,  1 / 4),\n",
    "    ),\n",
    "    'stevenson-arce': (\n",
    "        (2, 0,   32 / 200), (-3, 1,  12 / 200), (-1, 1,  26 / 200), (1, 1,   30 / 200), (3, 1,   30 / 200), (-2, 2,  12 / 200), (0, 2,   26 / 200), (2, 2,   12 / 200), (-3, 3,   5 / 200), (-1, 3,  12 / 200), (1, 3,   12 / 200), (3, 3,    5 / 200)\n",
    "    )\n",
    "}"
   ]
  },
  {
   "cell_type": "code",
   "execution_count": null,
   "metadata": {},
   "outputs": [],
   "source": [
    "def errorDifusion(image, threshold = 0.5, method='floyd-steinberg'):\n",
    "    pattern = diffusionPatterns.get(method.lower())\n",
    "    # print(pattern)\n",
    "    rows, cols = image.shape\n",
    "    copy = np.copy(image)\n",
    "    for i in range(0, rows):\n",
    "        for j in range(0, cols):\n",
    "            newPixel = 255 * np.floor(copy[i][j] / 128) # Quantization by threshold\n",
    "            error = copy[i][j] - newPixel # error\n",
    "            copy[i][j] = newPixel\n",
    "            for deltaCols, deltaRows, proportion in pattern: # pattern destructuring\n",
    "                if( i + deltaRows >= 0 and i + deltaRows < rows and j + deltaCols >= 0 and j + deltaCols < cols) :\n",
    "                    copy[i + deltaRows][j + deltaCols] += error * proportion # error difusion\n",
    "                    #  copy[i + deltaRows][j + deltaCols] += min(max(error * proportion, 0), 255) # error difusion\n",
    "\n",
    "    return copy"
   ]
  },
  {
   "cell_type": "code",
   "execution_count": null,
   "metadata": {},
   "outputs": [],
   "source": [
    "errorDifusionImg = errorDifusion(gradient)\n",
    "\n",
    "# displayImg(grayscaleImg, subplot=121, cmap='gray', title= 'grayscale original image')\n",
    "displayImg(errorDifusionImg, subplot=111, cmap='gray', title= 'floyd-steinberg errorDifusion on gradient')"
   ]
  },
  {
   "cell_type": "code",
   "execution_count": null,
   "metadata": {},
   "outputs": [],
   "source": [
    "%%capture\n",
    "imgs = []\n",
    "titles = []\n",
    "\n",
    "# Iterating over diffrent pattern of error difusion \n",
    "for methodName, pattern in diffusionPatterns.items():\n",
    "    imgs.append(errorDifusion(gradient, method=methodName))\n",
    "    titles.append('method : ' + methodName)\n",
    "anim = animateImages(imgs, titles, cmap='gray', interval = 300)"
   ]
  },
  {
   "cell_type": "code",
   "execution_count": null,
   "metadata": {},
   "outputs": [],
   "source": [
    "HTML(anim.to_jshtml())"
   ]
  },
  {
   "cell_type": "code",
   "execution_count": null,
   "metadata": {},
   "outputs": [],
   "source": [
    "%%capture\n",
    "imgs = []\n",
    "titles = []\n",
    "\n",
    "# Iterating over diffrent pattern of error difusion \n",
    "for methodName, pattern in diffusionPatterns.items():\n",
    "    imgs.append(errorDifusion(grayscaleImg, method=methodName))\n",
    "    titles.append('method : ' + methodName)\n",
    "anim = animateImages(imgs, titles, cmap='gray', interval = 300)"
   ]
  },
  {
   "cell_type": "code",
   "execution_count": null,
   "metadata": {},
   "outputs": [],
   "source": [
    "HTML(anim.to_jshtml())"
   ]
  },
  {
   "cell_type": "code",
   "execution_count": null,
   "metadata": {},
   "outputs": [],
   "source": [
    "%%capture\n",
    "imgs = []\n",
    "titles = []\n",
    "\n",
    "# Iterating over diffrent pattern of error difusion \n",
    "for methodName, pattern in diffusionPatterns.items():\n",
    "    imgs.append(errorDifusion(grayscaleImg[:500, :500], method=methodName))\n",
    "    titles.append('method : ' + methodName)\n",
    "anim = animateImages(imgs, titles, cmap='gray', interval = 300)"
   ]
  },
  {
   "cell_type": "code",
   "execution_count": null,
   "metadata": {},
   "outputs": [],
   "source": [
    "HTML(anim.to_jshtml())"
   ]
  },
  {
   "cell_type": "code",
   "execution_count": null,
   "metadata": {},
   "outputs": [],
   "source": [
    "floydSteinbergImg = errorDifusion(grayscaleImg[:600, :600])\n",
    "BayerThresholdImg = bayerDithering(grayscaleImg[:600, :600], 16)\n",
    "\n",
    "displayImg(BayerThresholdImg, subplot=121, cmap='gray', title= 'BayerThresholdImg')\n",
    "displayImg(floydSteinbergImg, subplot=122, cmap='gray', title= 'floyd-steinberg dithering')"
   ]
  },
  {
   "cell_type": "code",
   "execution_count": null,
   "metadata": {},
   "outputs": [],
   "source": []
  }
 ],
 "metadata": {
  "file_extension": ".py",
  "kernelspec": {
   "display_name": "Python 3",
   "language": "python",
   "name": "python3"
  },
  "language_info": {
   "codemirror_mode": {
    "name": "ipython",
    "version": 3
   },
   "file_extension": ".py",
   "mimetype": "text/x-python",
   "name": "python",
   "nbconvert_exporter": "python",
   "pygments_lexer": "ipython3",
   "version": "3.8.3"
  },
  "mimetype": "text/x-python",
  "name": "python",
  "npconvert_exporter": "python",
  "pygments_lexer": "ipython3",
  "version": 3
 },
 "nbformat": 4,
 "nbformat_minor": 2
}
